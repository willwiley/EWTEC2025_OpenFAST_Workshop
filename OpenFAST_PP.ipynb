{
 "cells": [
  {
   "cell_type": "markdown",
   "id": "58a67aff-b399-42f3-8bd7-a5fffbae9193",
   "metadata": {},
   "source": [
    "# Example OpenFAST Post-Processing Python Notebook"
   ]
  },
  {
   "cell_type": "code",
   "execution_count": 1,
   "id": "e2beef1a-bd52-444d-8b54-47fd13e8d3bf",
   "metadata": {},
   "outputs": [],
   "source": [
    "import numpy as np\n",
    "import pandas as pd\n",
    "import os, glob, shutil\n",
    "import matplotlib.pyplot as plt\n",
    "import matplotlib.colors as mcolors\n",
    "plt.rcParams['axes.grid'] = True\n",
    "plt.rcParams['figure.autolayout'] = True"
   ]
  },
  {
   "cell_type": "code",
   "execution_count": 2,
   "id": "a057e140-4603-4849-8f4b-f62c408b1ee4",
   "metadata": {},
   "outputs": [],
   "source": [
    "## PSD function\n",
    "def psdsignal(time,sensor):\n",
    "    #Frequency vector\n",
    "    dfFFT=1/(np.max(time)-np.min(time))\n",
    "    fFFTlength = len(time)\n",
    "    fFFT = np.linspace(0,dfFFT*(fFFTlength-1),fFFTlength)\n",
    "    # Power spectral density\n",
    "    psd = 2*(1/fFFTlength)*np.abs(np.fft.fft(sensor))**2\n",
    "    return psd,fFFT"
   ]
  },
  {
   "cell_type": "code",
   "execution_count": null,
   "id": "59274df4-1b72-4d93-92d9-e43f51031a3c",
   "metadata": {},
   "outputs": [],
   "source": [
    "# Compare Plot results\n",
    "\n",
    "outname = 'MHK_RM1_Floating.out'\n",
    "paths = ['Your_Run_Path']\n",
    "lines = ['-','--',':','-.']\n",
    "\n",
    "outcols = [['Wind1VelX','Wind1VelY','Wind1VelZ'],['BldPitch1','BldPitch2'],['RtSpeed'],['PtfmSurge','PtfmSway','PtfmHeave','PtfmRoll','PtfmPitch','PtfmYaw'],['OoPDefl1','TwrTpTDxi'],['RtSkew'],\n",
    "           ['GenPwr','GenTq'],['RtFldFxh','RtFldFyh','RtFldFzh']]\n",
    "outunits = [['m/s','m/s','m/s'],['deg','deg'],['rpm'],['m','m','m','deg','deg','deg'],['m','m'],['deg'],\n",
    "            ['kW','kN-m'],['N','N','N']]\n",
    "\n",
    "fig,axs = plt.subplots(len(outcols),2,figsize=(20,len(outcols)*2),gridspec_kw={'width_ratios':[5, 2]})    \n",
    "for i in range(len(paths)):\n",
    "    OF = pd.read_csv(paths[i]+outname,skiprows=[0,1,2,3,4,5,7],sep='\\t')\n",
    "    with open(paths[i]+outname,\"r\") as fst:\n",
    "        ttotal = float(fst.readlines()[5].split(' ')[0])\n",
    "    if OF['Time'][len(OF['Time'])-1] < ttotal*0.99: print('Run '+str(i)+' Failed')\n",
    "    else: print('Run '+str(i)+' Finished')\n",
    "    for col in range(len(outcols)):\n",
    "        for c in range(len(outcols[col])):\n",
    "            axs[col,0].plot(OF.Time,OF[outcols[col][c]],label=outcols[col][c]+' '+outunits[col][c],ls=lines[i])\n",
    "            [psd,fFFT] = psdsignal(OF.Time,OF[outcols[col][c]]); \n",
    "            axs[col,1].plot(fFFT[5:-5],psd[5:-5],label=outcols[col][c]+' '+outunits[col][c],ls=lines[i])\n",
    "            axs[col,1].set(ylabel='PSD',xlim=[0,1])\n",
    "        axs[col,0].set_prop_cycle(None)\n",
    "        axs[col,1].set_prop_cycle(None)\n",
    "        if i == 0: axs[col,1].legend(loc=2,framealpha=0.7)\n",
    "axs[col,0].set(xlabel='Time [s]')\n",
    "plt.show()"
   ]
  }
 ],
 "metadata": {
  "kernelspec": {
   "display_name": "Python 3 (ipykernel)",
   "language": "python",
   "name": "python3"
  },
  "language_info": {
   "codemirror_mode": {
    "name": "ipython",
    "version": 3
   },
   "file_extension": ".py",
   "mimetype": "text/x-python",
   "name": "python",
   "nbconvert_exporter": "python",
   "pygments_lexer": "ipython3",
   "version": "3.11.4"
  }
 },
 "nbformat": 4,
 "nbformat_minor": 5
}
